{
 "cells": [
  {
   "cell_type": "code",
   "execution_count": 8,
   "metadata": {},
   "outputs": [
    {
     "output_type": "stream",
     "name": "stdout",
     "text": "aa\nccc\nddd\neee\n"
    }
   ],
   "source": [
    "if True:\n",
    "    print(\"aa\")\n",
    "    if False:\n",
    "        print(\"bbb\")\n",
    "    if True:\n",
    "        print(\"ccc\")\n",
    "    print(\"ddd\")\n",
    "print(\"eee\")"
   ]
  },
  {
   "cell_type": "code",
   "execution_count": 16,
   "metadata": {},
   "outputs": [
    {
     "output_type": "stream",
     "name": "stdout",
     "text": "aaaaa\n"
    }
   ],
   "source": [
    "def function(a) :\n",
    "    print(a)\n",
    "\n",
    "function('aaaaa')"
   ]
  },
  {
   "cell_type": "code",
   "execution_count": 17,
   "metadata": {},
   "outputs": [
    {
     "output_type": "stream",
     "name": "stdout",
     "text": "6\n"
    }
   ],
   "source": [
    "def test(a,b,c):\n",
    "    print(a + b+ c)\n",
    "\n",
    "test(1,2,3)\n"
   ]
  },
  {
   "cell_type": "code",
   "execution_count": 23,
   "metadata": {},
   "outputs": [
    {
     "output_type": "stream",
     "name": "stdout",
     "text": "3\n5\n"
    }
   ],
   "source": [
    "def aa(num):\n",
    "    rounded = round(num)\n",
    "    print(rounded)\n",
    "\n",
    "aa(3.4)\n",
    "aa(4.6)"
   ]
  },
  {
   "cell_type": "code",
   "execution_count": 24,
   "metadata": {},
   "outputs": [
    {
     "output_type": "stream",
     "name": "stdout",
     "text": "10 + 5 = 15\n"
    }
   ],
   "source": [
    "def add(a,b):\n",
    "    #함수 add에서 a와 b를 입력받아서 두 값을 더한 값을 result에 저장하고 출력하도록 만들어 보세요.\n",
    "    result = a + b\n",
    "    print( \"{} + {} = {}\".format(a,b,result) )#print문은 수정하지 마세요.\n",
    "\n",
    "add(10,5)"
   ]
  },
  {
   "cell_type": "code",
   "execution_count": 26,
   "metadata": {},
   "outputs": [
    {
     "output_type": "stream",
     "name": "stdout",
     "text": "15\n15\n"
    }
   ],
   "source": [
    "    def add_10(value):\n",
    "        result = value + 10\n",
    "        return result\n",
    "\n",
    "    n = add_10(5)\n",
    "    print(n)\n",
    "    print(add_10(5))"
   ]
  },
  {
   "cell_type": "code",
   "execution_count": 15,
   "metadata": {},
   "outputs": [
    {
     "output_type": "stream",
     "name": "stdout",
     "text": "안녕하세요. 제 이름은 '민경일' 이고 좋아하는 색은 '빨강' 입니다\n안녕하세요. 제 이름은 'John' 이고 좋아하는 색은 'red' 입니다\n"
    }
   ],
   "source": [
    "def intro(name, color):\n",
    "    print(\"안녕하세요. 제 이름은 '{}' 이고 좋아하는 색은 '{}' 입니다\".format(name, color))\n",
    "\n",
    "intro('민경일','빨강')\n",
    "intro('John','red')"
   ]
  }
 ],
 "metadata": {
  "language_info": {
   "codemirror_mode": {
    "name": "ipython",
    "version": 3
   },
   "file_extension": ".py",
   "mimetype": "text/x-python",
   "name": "python",
   "nbconvert_exporter": "python",
   "pygments_lexer": "ipython3",
   "version": "3.7.6-final"
  },
  "orig_nbformat": 2,
  "kernelspec": {
   "name": "python37664bitbaseconda2d9fa9f6884d42d8b2a5bbbb1fa66a40",
   "display_name": "Python 3.7.6 64-bit ('base': conda)"
  }
 },
 "nbformat": 4,
 "nbformat_minor": 2
}